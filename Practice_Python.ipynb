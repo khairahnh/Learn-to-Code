{
  "nbformat": 4,
  "nbformat_minor": 0,
  "metadata": {
    "colab": {
      "provenance": [],
      "collapsed_sections": [],
      "authorship_tag": "ABX9TyPfnhqxe9C5Nd3DRO8AqZiq",
      "include_colab_link": true
    },
    "kernelspec": {
      "name": "python3",
      "display_name": "Python 3"
    },
    "language_info": {
      "name": "python"
    }
  },
  "cells": [
    {
      "cell_type": "markdown",
      "metadata": {
        "id": "view-in-github",
        "colab_type": "text"
      },
      "source": [
        "<a href=\"https://colab.research.google.com/github/khairahnh/Learn-to-Code/blob/main/Practice_Python.ipynb\" target=\"_parent\"><img src=\"https://colab.research.google.com/assets/colab-badge.svg\" alt=\"Open In Colab\"/></a>"
      ]
    },
    {
      "cell_type": "code",
      "execution_count": 1,
      "metadata": {
        "colab": {
          "base_uri": "https://localhost:8080/"
        },
        "id": "1bvWGUc2GtiX",
        "outputId": "feaf7486-0cb3-49fe-c562-9827c35aaeb2"
      },
      "outputs": [
        {
          "output_type": "stream",
          "name": "stdout",
          "text": [
            "Python isawesome\n"
          ]
        }
      ],
      "source": [
        "x = \"awesome\"\n",
        "\n",
        "def myfunc():\n",
        "  print(\"Python is\" + x)\n",
        "\n",
        "myfunc()"
      ]
    },
    {
      "cell_type": "code",
      "source": [
        "x = \"awesome\"\n",
        "\n",
        "def myfunc():\n",
        "  x = \"fantastic\"\n",
        "  print(\"Python is \" + x)\n",
        "\n",
        "myfunc()\n",
        "\n",
        "print(\"Python is \" + x)"
      ],
      "metadata": {
        "colab": {
          "base_uri": "https://localhost:8080/"
        },
        "id": "IPCAyi16HAxE",
        "outputId": "08212bc6-05c3-4a23-d6c5-2d8e2dc3c662"
      },
      "execution_count": 2,
      "outputs": [
        {
          "output_type": "stream",
          "name": "stdout",
          "text": [
            "Python is fantastic\n",
            "Python is awesome\n"
          ]
        }
      ]
    },
    {
      "cell_type": "code",
      "source": [
        "def myfunc():\n",
        "  global x\n",
        "  x = \"fantastic\"\n",
        "\n",
        "myfunc()\n",
        "print(\"Python is \" + x)"
      ],
      "metadata": {
        "colab": {
          "base_uri": "https://localhost:8080/"
        },
        "id": "xVZtJ8KJHgfS",
        "outputId": "5ad8688d-ebf4-409b-fa0e-122cd8230111"
      },
      "execution_count": 3,
      "outputs": [
        {
          "output_type": "stream",
          "name": "stdout",
          "text": [
            "Python is fantastic\n"
          ]
        }
      ]
    },
    {
      "cell_type": "code",
      "source": [
        "x = 5\n",
        "print(type(x))"
      ],
      "metadata": {
        "colab": {
          "base_uri": "https://localhost:8080/"
        },
        "id": "BPEz8NPZK0EG",
        "outputId": "0b56d1d1-9d3c-47a4-c251-11abc204c154"
      },
      "execution_count": 4,
      "outputs": [
        {
          "output_type": "stream",
          "name": "stdout",
          "text": [
            "<class 'int'>\n"
          ]
        }
      ]
    },
    {
      "cell_type": "code",
      "source": [
        "x = \"Hello World\"\n",
        "print(type(x))"
      ],
      "metadata": {
        "colab": {
          "base_uri": "https://localhost:8080/"
        },
        "id": "DhJowDs4K7Er",
        "outputId": "e9b02c2b-97b5-4dc2-e8c6-f0e73afd4abc"
      },
      "execution_count": 5,
      "outputs": [
        {
          "output_type": "stream",
          "name": "stdout",
          "text": [
            "<class 'str'>\n"
          ]
        }
      ]
    },
    {
      "cell_type": "code",
      "source": [
        "x = 20.5\n",
        "print(type(x))"
      ],
      "metadata": {
        "colab": {
          "base_uri": "https://localhost:8080/"
        },
        "id": "3ZSWs86zLAgE",
        "outputId": "8ead8e07-e5fe-46d3-f32b-4ca9059abe07"
      },
      "execution_count": 6,
      "outputs": [
        {
          "output_type": "stream",
          "name": "stdout",
          "text": [
            "<class 'float'>\n"
          ]
        }
      ]
    },
    {
      "cell_type": "code",
      "source": [
        "x = 1j\n",
        "print(type(x))"
      ],
      "metadata": {
        "colab": {
          "base_uri": "https://localhost:8080/"
        },
        "id": "DVTTHI04LEH9",
        "outputId": "b1e09bff-b7bd-4a7e-a7af-5f02fd3ced80"
      },
      "execution_count": 7,
      "outputs": [
        {
          "output_type": "stream",
          "name": "stdout",
          "text": [
            "<class 'complex'>\n"
          ]
        }
      ]
    },
    {
      "cell_type": "code",
      "source": [
        "x = [\"apple\", \"banana\", \"cherry\"]\n",
        "print(type(x))"
      ],
      "metadata": {
        "colab": {
          "base_uri": "https://localhost:8080/"
        },
        "id": "zZJw8YC5LIrJ",
        "outputId": "0baa5cbb-1c58-4b09-ff35-a0760579bb7d"
      },
      "execution_count": 8,
      "outputs": [
        {
          "output_type": "stream",
          "name": "stdout",
          "text": [
            "<class 'list'>\n"
          ]
        }
      ]
    },
    {
      "cell_type": "code",
      "source": [
        "x = (\"apple\", \"banana\", \"cherry\")\n",
        "print(type(x))"
      ],
      "metadata": {
        "colab": {
          "base_uri": "https://localhost:8080/"
        },
        "id": "s_rUEf-FLP1q",
        "outputId": "4cdb90e2-698d-4fef-e0bf-35c3faa4bd94"
      },
      "execution_count": 9,
      "outputs": [
        {
          "output_type": "stream",
          "name": "stdout",
          "text": [
            "<class 'tuple'>\n"
          ]
        }
      ]
    },
    {
      "cell_type": "code",
      "source": [
        "x = range(6)\n",
        "print(x)\n",
        "print(type(x))"
      ],
      "metadata": {
        "colab": {
          "base_uri": "https://localhost:8080/"
        },
        "id": "02Ba1I7bLVR8",
        "outputId": "4ee47ae6-6032-4b2a-88c0-3af1acb1dc3e"
      },
      "execution_count": 10,
      "outputs": [
        {
          "output_type": "stream",
          "name": "stdout",
          "text": [
            "range(0, 6)\n",
            "<class 'range'>\n"
          ]
        }
      ]
    },
    {
      "cell_type": "code",
      "source": [
        "x = {\"name\" : \"John\", \"age\": 36}\n",
        "print(x)\n",
        "print(type(x))"
      ],
      "metadata": {
        "colab": {
          "base_uri": "https://localhost:8080/"
        },
        "id": "VigBaXDmLlr9",
        "outputId": "7d693d33-01c2-46e6-d8ac-ae6f962b73ef"
      },
      "execution_count": 11,
      "outputs": [
        {
          "output_type": "stream",
          "name": "stdout",
          "text": [
            "{'name': 'John', 'age': 36}\n",
            "<class 'dict'>\n"
          ]
        }
      ]
    },
    {
      "cell_type": "code",
      "source": [
        "x = {\"apple\", \"banana\", \"cherry\"}\n",
        "print(x)\n",
        "print(type(x))"
      ],
      "metadata": {
        "colab": {
          "base_uri": "https://localhost:8080/"
        },
        "id": "47f4Wk-dLx4R",
        "outputId": "5fcf86d6-441a-4d4d-8381-5655ce74304f"
      },
      "execution_count": 12,
      "outputs": [
        {
          "output_type": "stream",
          "name": "stdout",
          "text": [
            "{'apple', 'banana', 'cherry'}\n",
            "<class 'set'>\n"
          ]
        }
      ]
    },
    {
      "cell_type": "code",
      "source": [
        "x = True\n",
        "print(type(x))"
      ],
      "metadata": {
        "colab": {
          "base_uri": "https://localhost:8080/"
        },
        "id": "BwKvDJOPL5zd",
        "outputId": "14444520-bbf2-40a8-d43f-bb393bf0596f"
      },
      "execution_count": 13,
      "outputs": [
        {
          "output_type": "stream",
          "name": "stdout",
          "text": [
            "<class 'bool'>\n"
          ]
        }
      ]
    },
    {
      "cell_type": "code",
      "source": [
        "x = frozenset({\"apple\", \"banana\", \"cherry\"})\n",
        "print(x)\n",
        "print(type(x))"
      ],
      "metadata": {
        "colab": {
          "base_uri": "https://localhost:8080/"
        },
        "id": "-d140d9eL-7Y",
        "outputId": "6a488a19-78c1-4772-cf15-9a3daa64161b"
      },
      "execution_count": 14,
      "outputs": [
        {
          "output_type": "stream",
          "name": "stdout",
          "text": [
            "frozenset({'apple', 'banana', 'cherry'})\n",
            "<class 'frozenset'>\n"
          ]
        }
      ]
    },
    {
      "cell_type": "code",
      "source": [
        "x = b\"Hello\"\n",
        "print(x)\n",
        "print(type(x))"
      ],
      "metadata": {
        "colab": {
          "base_uri": "https://localhost:8080/"
        },
        "id": "fdT2E_txMLGE",
        "outputId": "36810ce0-f193-4f72-96c4-fabadd9fd1e1"
      },
      "execution_count": 15,
      "outputs": [
        {
          "output_type": "stream",
          "name": "stdout",
          "text": [
            "b'Hello'\n",
            "<class 'bytes'>\n"
          ]
        }
      ]
    },
    {
      "cell_type": "code",
      "source": [
        "x = bytearray(5)\n",
        "print(x)\n",
        "print(type(x))"
      ],
      "metadata": {
        "colab": {
          "base_uri": "https://localhost:8080/"
        },
        "id": "Aa_yLsokMP2p",
        "outputId": "abfe801e-d037-47e8-d174-4f1f29d89451"
      },
      "execution_count": 16,
      "outputs": [
        {
          "output_type": "stream",
          "name": "stdout",
          "text": [
            "bytearray(b'\\x00\\x00\\x00\\x00\\x00')\n",
            "<class 'bytearray'>\n"
          ]
        }
      ]
    },
    {
      "cell_type": "code",
      "source": [
        "x = memoryview(bytes(5))\n",
        "print(x)\n",
        "print(type(x))"
      ],
      "metadata": {
        "colab": {
          "base_uri": "https://localhost:8080/"
        },
        "id": "OhoGR5IdMZ5f",
        "outputId": "57e5fddf-c172-415f-85b2-84c42d229ff0"
      },
      "execution_count": 17,
      "outputs": [
        {
          "output_type": "stream",
          "name": "stdout",
          "text": [
            "<memory at 0x7fa29f560bb0>\n",
            "<class 'memoryview'>\n"
          ]
        }
      ]
    },
    {
      "cell_type": "code",
      "source": [
        "x = None\n",
        "print(x)\n",
        "print(type(x))"
      ],
      "metadata": {
        "colab": {
          "base_uri": "https://localhost:8080/"
        },
        "id": "u5YUaEtkiinW",
        "outputId": "d1552895-7899-410d-9263-44287792a474"
      },
      "execution_count": 18,
      "outputs": [
        {
          "output_type": "stream",
          "name": "stdout",
          "text": [
            "None\n",
            "<class 'NoneType'>\n"
          ]
        }
      ]
    },
    {
      "cell_type": "code",
      "source": [
        "x,y,z = \"Orange\", \"Banana\", \"Cherry\"\n",
        "print(x)\n",
        "print(y)\n",
        "print(z)"
      ],
      "metadata": {
        "colab": {
          "base_uri": "https://localhost:8080/"
        },
        "id": "D4jZaXf3nU0X",
        "outputId": "948f0957-4c83-4e66-8127-69cf765a7ab0"
      },
      "execution_count": 19,
      "outputs": [
        {
          "output_type": "stream",
          "name": "stdout",
          "text": [
            "Orange\n",
            "Banana\n",
            "Cherry\n"
          ]
        }
      ]
    },
    {
      "cell_type": "code",
      "source": [
        "fruits = [\"apple\", \"banana\", \"cherry\"]\n",
        "x,y,z = fruits\n",
        "print(x)\n",
        "print(y)\n",
        "print(z)"
      ],
      "metadata": {
        "colab": {
          "base_uri": "https://localhost:8080/"
        },
        "id": "P5g56N5unhqu",
        "outputId": "7cf43f8c-cc99-43c1-a258-89bce06b87c5"
      },
      "execution_count": 20,
      "outputs": [
        {
          "output_type": "stream",
          "name": "stdout",
          "text": [
            "apple\n",
            "banana\n",
            "cherry\n"
          ]
        }
      ]
    },
    {
      "cell_type": "code",
      "source": [
        "x = \"Python\"\n",
        "y =\"is\"\n",
        "z = \"awesome\"\n",
        "print(x+y+z)"
      ],
      "metadata": {
        "colab": {
          "base_uri": "https://localhost:8080/"
        },
        "id": "G2HrJ41-n0pC",
        "outputId": "38f7ab44-1b8a-441e-93fb-41282e0a2b0f"
      },
      "execution_count": 21,
      "outputs": [
        {
          "output_type": "stream",
          "name": "stdout",
          "text": [
            "Pythonisawesome\n"
          ]
        }
      ]
    },
    {
      "cell_type": "code",
      "source": [
        "x = 1\n",
        "y = 2.8\n",
        "z = 1j\n",
        "\n",
        "#convert from int to float\n",
        "a = float(x)\n",
        "\n",
        "# convert from float to int\n",
        "b = int(y)\n",
        "\n",
        "#convert from int to complex\n",
        "c = complex(x)\n",
        "\n",
        "print(a)\n",
        "print(b)\n",
        "print(c)\n",
        "\n",
        "print(type(a))\n",
        "print(type(b))\n",
        "print(type(c))"
      ],
      "metadata": {
        "colab": {
          "base_uri": "https://localhost:8080/"
        },
        "id": "1JgekxJ2p1x0",
        "outputId": "330c6c9e-afa6-488f-e876-ec1498b19ab2"
      },
      "execution_count": 22,
      "outputs": [
        {
          "output_type": "stream",
          "name": "stdout",
          "text": [
            "1.0\n",
            "2\n",
            "(1+0j)\n",
            "<class 'float'>\n",
            "<class 'int'>\n",
            "<class 'complex'>\n"
          ]
        }
      ]
    },
    {
      "cell_type": "code",
      "source": [
        "import random\n",
        "\n",
        "print(random.randrange(1,10))"
      ],
      "metadata": {
        "colab": {
          "base_uri": "https://localhost:8080/"
        },
        "id": "a2TdkPSiqS6B",
        "outputId": "8e47b221-d410-4dae-e81a-1f2129b31926"
      },
      "execution_count": 23,
      "outputs": [
        {
          "output_type": "stream",
          "name": "stdout",
          "text": [
            "8\n"
          ]
        }
      ]
    },
    {
      "cell_type": "code",
      "source": [
        "a = \"Hello, World\"\n",
        "print(len(a))\n"
      ],
      "metadata": {
        "colab": {
          "base_uri": "https://localhost:8080/"
        },
        "id": "wc08dyP5r1DQ",
        "outputId": "97979f8a-7528-4a1d-a5bf-48d5e9c33df7"
      },
      "execution_count": 24,
      "outputs": [
        {
          "output_type": "stream",
          "name": "stdout",
          "text": [
            "12\n"
          ]
        }
      ]
    },
    {
      "cell_type": "code",
      "source": [
        "for x in \"banana\":\n",
        "  print (x)\n"
      ],
      "metadata": {
        "colab": {
          "base_uri": "https://localhost:8080/"
        },
        "id": "n3CRWE0ZsICS",
        "outputId": "791d1735-9ca3-4b22-8260-0cc3af667548"
      },
      "execution_count": 25,
      "outputs": [
        {
          "output_type": "stream",
          "name": "stdout",
          "text": [
            "b\n",
            "a\n",
            "n\n",
            "a\n",
            "n\n",
            "a\n"
          ]
        }
      ]
    },
    {
      "cell_type": "code",
      "source": [
        "txt = \"The best things in life are free\"\n",
        "print(\"free\" in txt)"
      ],
      "metadata": {
        "colab": {
          "base_uri": "https://localhost:8080/"
        },
        "id": "qj_bHUQlsp4q",
        "outputId": "74d16c14-698c-4ab7-a837-34d3c812c70a"
      },
      "execution_count": 26,
      "outputs": [
        {
          "output_type": "stream",
          "name": "stdout",
          "text": [
            "True\n"
          ]
        }
      ]
    },
    {
      "cell_type": "code",
      "source": [
        "txt = \"The best things in life are free\"\n",
        "if \"book\" in txt:\n",
        "  print(\"Yes, 'book' is present.\")\n",
        "else: \n",
        "  print(\"No, 'book is not present.\")\n"
      ],
      "metadata": {
        "colab": {
          "base_uri": "https://localhost:8080/"
        },
        "id": "sqImO0VCsyZN",
        "outputId": "29e6d5a4-1333-4fb2-a71b-86116b68e596"
      },
      "execution_count": 27,
      "outputs": [
        {
          "output_type": "stream",
          "name": "stdout",
          "text": [
            "No, 'book is not present.\n"
          ]
        }
      ]
    },
    {
      "cell_type": "code",
      "source": [
        "b = \"Hello, World!\"\n",
        "print(b[2:5])"
      ],
      "metadata": {
        "colab": {
          "base_uri": "https://localhost:8080/"
        },
        "id": "3B_iIG-Vtaj9",
        "outputId": "2d776b93-a41c-434e-d4a1-1c40b6c2df42"
      },
      "execution_count": 28,
      "outputs": [
        {
          "output_type": "stream",
          "name": "stdout",
          "text": [
            "llo\n"
          ]
        }
      ]
    },
    {
      "cell_type": "code",
      "source": [
        "b = \"Hello, World!\"\n",
        "print(b[:5])"
      ],
      "metadata": {
        "id": "BhvMnScEszjo",
        "colab": {
          "base_uri": "https://localhost:8080/"
        },
        "outputId": "49d3bd55-f1f0-4082-f2d4-67440674b412"
      },
      "execution_count": 29,
      "outputs": [
        {
          "output_type": "stream",
          "name": "stdout",
          "text": [
            "Hello\n"
          ]
        }
      ]
    },
    {
      "cell_type": "code",
      "source": [
        "b = \"Hello, World!\"\n",
        "print(b[2:])"
      ],
      "metadata": {
        "colab": {
          "base_uri": "https://localhost:8080/"
        },
        "id": "jIvE9Mcueqa3",
        "outputId": "695ba285-c43e-439d-ee5e-722b9c9c396a"
      },
      "execution_count": 30,
      "outputs": [
        {
          "output_type": "stream",
          "name": "stdout",
          "text": [
            "llo, World!\n"
          ]
        }
      ]
    },
    {
      "cell_type": "code",
      "source": [
        "b = \"Hello, World!\"\n",
        "print(b[-5:-2])"
      ],
      "metadata": {
        "colab": {
          "base_uri": "https://localhost:8080/"
        },
        "id": "j5opD4F_hNX2",
        "outputId": "5071ac1a-66df-44b6-f0a0-5eb8f626588f"
      },
      "execution_count": 31,
      "outputs": [
        {
          "output_type": "stream",
          "name": "stdout",
          "text": [
            "orl\n"
          ]
        }
      ]
    },
    {
      "cell_type": "code",
      "source": [
        "b = \"Hello, World!\"\n",
        "print(b.upper())"
      ],
      "metadata": {
        "colab": {
          "base_uri": "https://localhost:8080/"
        },
        "id": "dFAK9-Bahsan",
        "outputId": "545f93c1-dd6b-4225-9f5d-db1c7e4a1d1d"
      },
      "execution_count": 32,
      "outputs": [
        {
          "output_type": "stream",
          "name": "stdout",
          "text": [
            "HELLO, WORLD!\n"
          ]
        }
      ]
    },
    {
      "cell_type": "code",
      "source": [
        "b = \"Hello, World!\"\n",
        "print(b.lower())"
      ],
      "metadata": {
        "colab": {
          "base_uri": "https://localhost:8080/"
        },
        "id": "L-uWkRSihyEz",
        "outputId": "f512f5a7-791e-4a16-930e-6e0a35ca8928"
      },
      "execution_count": 33,
      "outputs": [
        {
          "output_type": "stream",
          "name": "stdout",
          "text": [
            "hello, world!\n"
          ]
        }
      ]
    },
    {
      "cell_type": "code",
      "source": [
        "b = \"HelloWorld!   \"\n",
        "print(b.strip())"
      ],
      "metadata": {
        "colab": {
          "base_uri": "https://localhost:8080/"
        },
        "id": "cycAPF0-h7xI",
        "outputId": "f1b6cc0a-d266-4af0-aded-7db37f8504cb"
      },
      "execution_count": 34,
      "outputs": [
        {
          "output_type": "stream",
          "name": "stdout",
          "text": [
            "HelloWorld!\n"
          ]
        }
      ]
    },
    {
      "cell_type": "code",
      "source": [
        "b = \"Hello, World!   \"\n",
        "print(b.replace(\"H\", \"J\"))"
      ],
      "metadata": {
        "colab": {
          "base_uri": "https://localhost:8080/"
        },
        "id": "38nNJtAYiLZx",
        "outputId": "94b516b0-bf00-4b6c-efb1-2871f03dd07a"
      },
      "execution_count": 35,
      "outputs": [
        {
          "output_type": "stream",
          "name": "stdout",
          "text": [
            "Jello, World!   \n"
          ]
        }
      ]
    },
    {
      "cell_type": "code",
      "source": [
        "b = \"Hello, World!\"\n",
        "print(b.split(\",\"))"
      ],
      "metadata": {
        "colab": {
          "base_uri": "https://localhost:8080/"
        },
        "id": "AVYLQrEiiTB2",
        "outputId": "25153577-9ca9-425d-e3bd-87cbe635080e"
      },
      "execution_count": 36,
      "outputs": [
        {
          "output_type": "stream",
          "name": "stdout",
          "text": [
            "['Hello', ' World!']\n"
          ]
        }
      ]
    },
    {
      "cell_type": "code",
      "source": [
        "b = \"Hello, World!\"\n",
        "print(b.split(','))"
      ],
      "metadata": {
        "colab": {
          "base_uri": "https://localhost:8080/"
        },
        "id": "t0hnEvaOiZxi",
        "outputId": "3a32b56a-3753-4565-eed9-b1c8ccbf927e"
      },
      "execution_count": 37,
      "outputs": [
        {
          "output_type": "stream",
          "name": "stdout",
          "text": [
            "['Hello', ' World!']\n"
          ]
        }
      ]
    },
    {
      "cell_type": "code",
      "source": [
        "#Concatenate\n",
        "\n",
        "a = \"Hello\"\n",
        "b = \"World\"\n",
        "c = a + b\n",
        "print(c)\n"
      ],
      "metadata": {
        "colab": {
          "base_uri": "https://localhost:8080/"
        },
        "id": "hxKMLElTihoF",
        "outputId": "1fcb52ce-b982-4f80-aa13-4b592141795c"
      },
      "execution_count": 38,
      "outputs": [
        {
          "output_type": "stream",
          "name": "stdout",
          "text": [
            "HelloWorld\n"
          ]
        }
      ]
    },
    {
      "cell_type": "code",
      "source": [
        "#Concatenate\n",
        "\n",
        "a = \"Hello\"\n",
        "b = \"World\"\n",
        "c = a + \" \" + b\n",
        "print(c)"
      ],
      "metadata": {
        "colab": {
          "base_uri": "https://localhost:8080/"
        },
        "id": "mYrHv97iirTh",
        "outputId": "34636527-6498-4113-d3b5-98f65fbe0abf"
      },
      "execution_count": 39,
      "outputs": [
        {
          "output_type": "stream",
          "name": "stdout",
          "text": [
            "Hello World\n"
          ]
        }
      ]
    },
    {
      "cell_type": "code",
      "source": [
        "age = 32\n",
        "txt = \"My name is Khairah, and I am {}\"\n",
        "print(txt.format(age)) "
      ],
      "metadata": {
        "colab": {
          "base_uri": "https://localhost:8080/"
        },
        "id": "9ey6ZHihkeOx",
        "outputId": "3ad99e06-8dc9-4597-e758-0a346f130241"
      },
      "execution_count": 40,
      "outputs": [
        {
          "output_type": "stream",
          "name": "stdout",
          "text": [
            "My name is Khairah, and I am 32\n"
          ]
        }
      ]
    },
    {
      "cell_type": "code",
      "source": [
        "quantity = 3\n",
        "itemno = 770\n",
        "price = 49.95\n",
        "myorder = \"I want {} pieces of banana {} for {} Ringgit Malaysia\"\n",
        "print(myorder.format(quantity, itemno, price))"
      ],
      "metadata": {
        "colab": {
          "base_uri": "https://localhost:8080/"
        },
        "id": "p0n8JPb1lMt0",
        "outputId": "a19db962-27d9-42a3-a0f0-fb43a04713d4"
      },
      "execution_count": 41,
      "outputs": [
        {
          "output_type": "stream",
          "name": "stdout",
          "text": [
            "I want 3 pieces of banana 770 for 49.95 Ringgit Malaysia\n"
          ]
        }
      ]
    },
    {
      "cell_type": "code",
      "source": [
        "quantity = 3\n",
        "itemno = 770\n",
        "price = 49.95\n",
        "myorder = \"I want {0} pieces of banana {1} for {2} Ringgit Malaysia.\"\n",
        "print(myorder.format(quantity, itemno, price))"
      ],
      "metadata": {
        "id": "GzCSqUTSlMxM",
        "colab": {
          "base_uri": "https://localhost:8080/"
        },
        "outputId": "1846f506-282e-40a7-c1ec-d44d5e2e67a6"
      },
      "execution_count": 42,
      "outputs": [
        {
          "output_type": "stream",
          "name": "stdout",
          "text": [
            "I want 3 pieces of banana 770 for 49.95 Ringgit Malaysia.\n"
          ]
        }
      ]
    },
    {
      "cell_type": "code",
      "source": [
        "txt = \"We are the so-called \\\"Vikings\\\" from the north.\"\n",
        "print(txt)\n"
      ],
      "metadata": {
        "colab": {
          "base_uri": "https://localhost:8080/"
        },
        "id": "SVTCvLaL2U_K",
        "outputId": "65d5cfb7-daec-4b04-9e66-5c98f6ef758d"
      },
      "execution_count": 43,
      "outputs": [
        {
          "output_type": "stream",
          "name": "stdout",
          "text": [
            "We are the so-called \"Vikings\" from the north.\n"
          ]
        }
      ]
    },
    {
      "cell_type": "code",
      "source": [
        "txt = \"Hello \\bbaby World!\"\n",
        "print(txt)"
      ],
      "metadata": {
        "colab": {
          "base_uri": "https://localhost:8080/"
        },
        "id": "0OSaJiXK3hnV",
        "outputId": "fac7cbae-076f-45fc-dfe4-c6355a9bda88"
      },
      "execution_count": 44,
      "outputs": [
        {
          "output_type": "stream",
          "name": "stdout",
          "text": [
            "Hello \bbaby World!\n"
          ]
        }
      ]
    },
    {
      "cell_type": "code",
      "source": [
        "txt = \"hello world!\"\n",
        "print(txt.capitalize())"
      ],
      "metadata": {
        "colab": {
          "base_uri": "https://localhost:8080/"
        },
        "id": "zamTopac4L66",
        "outputId": "a3d6ae69-722e-4d1f-9021-9951edb70381"
      },
      "execution_count": 45,
      "outputs": [
        {
          "output_type": "stream",
          "name": "stdout",
          "text": [
            "Hello world!\n"
          ]
        }
      ]
    },
    {
      "cell_type": "code",
      "source": [
        "txt = \"HELLO WORLD!\"\n",
        "print(txt.casefold())"
      ],
      "metadata": {
        "colab": {
          "base_uri": "https://localhost:8080/"
        },
        "id": "6st3XHyG4Tq_",
        "outputId": "e683aa79-3384-4fc8-843d-2e6c416dfa6c"
      },
      "execution_count": 46,
      "outputs": [
        {
          "output_type": "stream",
          "name": "stdout",
          "text": [
            "hello world!\n"
          ]
        }
      ]
    },
    {
      "cell_type": "code",
      "source": [
        "txt = \"HELLO HELLO HELLO  WORLD!\"\n",
        "print(txt.count(\"HELLO\"))"
      ],
      "metadata": {
        "colab": {
          "base_uri": "https://localhost:8080/"
        },
        "id": "x7wffKzD4ali",
        "outputId": "60c91e7a-cd47-48fd-ef7e-836c73b3995b"
      },
      "execution_count": 47,
      "outputs": [
        {
          "output_type": "stream",
          "name": "stdout",
          "text": [
            "3\n"
          ]
        }
      ]
    },
    {
      "cell_type": "code",
      "source": [
        "txt = \"HELLO HELLO HELLO  WORLD!\"\n",
        "print(txt.endswith(\"HELLO\", 3))"
      ],
      "metadata": {
        "colab": {
          "base_uri": "https://localhost:8080/"
        },
        "id": "mb6Ogteu4q-Z",
        "outputId": "485badac-e3b4-41fc-947d-26e1e13e92c7"
      },
      "execution_count": 48,
      "outputs": [
        {
          "output_type": "stream",
          "name": "stdout",
          "text": [
            "False\n"
          ]
        }
      ]
    },
    {
      "cell_type": "code",
      "source": [
        "txt = \"HELLO HELLO HELLO  WORLD!\"\n",
        "print(txt.expandtabs())"
      ],
      "metadata": {
        "colab": {
          "base_uri": "https://localhost:8080/"
        },
        "id": "xv6VPOoe45rB",
        "outputId": "983a4215-8bd2-475a-db48-0d2573503a51"
      },
      "execution_count": 49,
      "outputs": [
        {
          "output_type": "stream",
          "name": "stdout",
          "text": [
            "HELLO HELLO HELLO  WORLD!\n"
          ]
        }
      ]
    },
    {
      "cell_type": "code",
      "source": [
        "txt = \"HELLO HELLO HELLO  WORLD!\"\n",
        "print(txt.find(\"HELLO\", 3))"
      ],
      "metadata": {
        "colab": {
          "base_uri": "https://localhost:8080/"
        },
        "id": "2vJkanv649ZY",
        "outputId": "565f1ec5-e169-4fbc-ec66-17954e253ee6"
      },
      "execution_count": 50,
      "outputs": [
        {
          "output_type": "stream",
          "name": "stdout",
          "text": [
            "6\n"
          ]
        }
      ]
    },
    {
      "cell_type": "code",
      "source": [
        "#returns true if all characters in the string are in the alphabet\n",
        "txt = \"helloworld\"\n",
        "print(txt.isalpha())"
      ],
      "metadata": {
        "colab": {
          "base_uri": "https://localhost:8080/"
        },
        "id": "RgH5-gm25Tr1",
        "outputId": "d87e89ce-6bd6-4aa3-a584-516521d3eb96"
      },
      "execution_count": 51,
      "outputs": [
        {
          "output_type": "stream",
          "name": "stdout",
          "text": [
            "True\n"
          ]
        }
      ]
    },
    {
      "cell_type": "code",
      "source": [
        "# returns true if all characters in the string are alphanumeric\n",
        "\n",
        "txt = \"HELLO123\"\n",
        "print(txt.isalnum())"
      ],
      "metadata": {
        "colab": {
          "base_uri": "https://localhost:8080/"
        },
        "id": "BOY5PONN5gHR",
        "outputId": "d115cf0c-b618-4df9-f5fa-073cec9ff83e"
      },
      "execution_count": 52,
      "outputs": [
        {
          "output_type": "stream",
          "name": "stdout",
          "text": [
            "True\n"
          ]
        }
      ]
    },
    {
      "cell_type": "code",
      "source": [
        "# returns true if all characters in the string are decimal\n",
        "txt = '4.5674'\n",
        "print(txt.isdecimal())"
      ],
      "metadata": {
        "colab": {
          "base_uri": "https://localhost:8080/"
        },
        "id": "S-Swrv0q53eL",
        "outputId": "ea37338d-2f24-43f5-8336-d249599c7100"
      },
      "execution_count": 53,
      "outputs": [
        {
          "output_type": "stream",
          "name": "stdout",
          "text": [
            "False\n"
          ]
        }
      ]
    },
    {
      "cell_type": "code",
      "source": [],
      "metadata": {
        "id": "87JvJMrV64tc"
      },
      "execution_count": 53,
      "outputs": []
    },
    {
      "cell_type": "code",
      "source": [
        "# returns true if all characters in the string are digits\n",
        "\n",
        "a = \"1234567\"\n",
        "print(a.isdigit())"
      ],
      "metadata": {
        "colab": {
          "base_uri": "https://localhost:8080/"
        },
        "id": "w_vTVsf36btT",
        "outputId": "b456ac89-2f14-4ccf-aa88-7567033479b9"
      },
      "execution_count": 54,
      "outputs": [
        {
          "output_type": "stream",
          "name": "stdout",
          "text": [
            "True\n"
          ]
        }
      ]
    },
    {
      "cell_type": "code",
      "source": [
        "print(10>9)\n",
        "print(10==9)\n",
        "print(10<9)"
      ],
      "metadata": {
        "colab": {
          "base_uri": "https://localhost:8080/"
        },
        "id": "qku3ZTo28hOn",
        "outputId": "1d269fda-0c26-40d0-fbd3-cc47112145fa"
      },
      "execution_count": 55,
      "outputs": [
        {
          "output_type": "stream",
          "name": "stdout",
          "text": [
            "True\n",
            "False\n",
            "False\n"
          ]
        }
      ]
    },
    {
      "cell_type": "code",
      "source": [
        "a = 200\n",
        "b = 33\n",
        "\n",
        "if b > a:\n",
        "  print(\"b is greater than a\")\n",
        "else:\n",
        "  print (\"b is not greater than a\")"
      ],
      "metadata": {
        "colab": {
          "base_uri": "https://localhost:8080/"
        },
        "id": "JMtfw3938rkp",
        "outputId": "4b26a993-6284-4aad-a0ca-589cf3b5bceb"
      },
      "execution_count": 56,
      "outputs": [
        {
          "output_type": "stream",
          "name": "stdout",
          "text": [
            "b is not greater than a\n"
          ]
        }
      ]
    },
    {
      "cell_type": "code",
      "source": [
        "print(bool(\"Hello\"))\n",
        "print(bool(15))"
      ],
      "metadata": {
        "colab": {
          "base_uri": "https://localhost:8080/"
        },
        "id": "PgFMWR4w8_V3",
        "outputId": "a7f67dbc-1cff-413d-8651-6509a08aa8c9"
      },
      "execution_count": 57,
      "outputs": [
        {
          "output_type": "stream",
          "name": "stdout",
          "text": [
            "True\n",
            "True\n"
          ]
        }
      ]
    },
    {
      "cell_type": "code",
      "source": [
        "x = \"Hello\"\n",
        "y = \"15\"\n",
        "\n",
        "print(bool(x))\n",
        "print(bool(y))"
      ],
      "metadata": {
        "colab": {
          "base_uri": "https://localhost:8080/"
        },
        "id": "rrdUTxCR9HEZ",
        "outputId": "4f51547c-e230-44dd-bf0f-b9958affc59d"
      },
      "execution_count": 58,
      "outputs": [
        {
          "output_type": "stream",
          "name": "stdout",
          "text": [
            "True\n",
            "True\n"
          ]
        }
      ]
    },
    {
      "cell_type": "code",
      "source": [
        "class myclass():\n",
        "  def __len__(self):\n",
        "    return 0\n",
        "\n",
        "myobj = myclass()\n",
        "print(bool(myobj))"
      ],
      "metadata": {
        "colab": {
          "base_uri": "https://localhost:8080/"
        },
        "id": "haGCJJ8U9apf",
        "outputId": "318d60f3-3201-4eba-d6bf-5ed91939229c"
      },
      "execution_count": 59,
      "outputs": [
        {
          "output_type": "stream",
          "name": "stdout",
          "text": [
            "False\n"
          ]
        }
      ]
    },
    {
      "cell_type": "code",
      "source": [
        "def myFunction():\n",
        "  return True\n",
        "\n",
        "print(myFunction())"
      ],
      "metadata": {
        "colab": {
          "base_uri": "https://localhost:8080/"
        },
        "id": "oa6ROVvY9nDT",
        "outputId": "3aa03eb4-9c69-48a4-d090-12ced79b272c"
      },
      "execution_count": 60,
      "outputs": [
        {
          "output_type": "stream",
          "name": "stdout",
          "text": [
            "True\n"
          ]
        }
      ]
    },
    {
      "cell_type": "code",
      "source": [
        "#List allow duplication see 2 apples in the list\n",
        "d = [\"apple\", \"banana\", \"cherry\", \"apple\", \"cherry\"]\n",
        "print(d)"
      ],
      "metadata": {
        "colab": {
          "base_uri": "https://localhost:8080/"
        },
        "id": "VPJGKyxZDTLN",
        "outputId": "dc6f86b0-b01f-40fe-ceb1-c654ea5ad544"
      },
      "execution_count": 61,
      "outputs": [
        {
          "output_type": "stream",
          "name": "stdout",
          "text": [
            "['apple', 'banana', 'cherry', 'apple', 'cherry']\n"
          ]
        }
      ]
    },
    {
      "cell_type": "code",
      "source": [
        "# print the number of items (list length)\n",
        "d = [\"apple\", \"banana\", \"cherry\", \"apple\", \"cherry\"]\n",
        "print(len(d))"
      ],
      "metadata": {
        "colab": {
          "base_uri": "https://localhost:8080/"
        },
        "id": "6OSBI9hTDnOE",
        "outputId": "b29bf0a7-c145-4adc-8b91-53a1f51ad4b3"
      },
      "execution_count": 62,
      "outputs": [
        {
          "output_type": "stream",
          "name": "stdout",
          "text": [
            "5\n"
          ]
        }
      ]
    },
    {
      "cell_type": "code",
      "source": [
        "# print data type\n",
        "d = [\"apple\", \"banana\", \"cherry\", \"apple\", \"cherry\"]\n",
        "e = [1,2,3,4,5,6]\n",
        "f = [True, False,False]\n",
        "print(d)\n",
        "print(e)\n",
        "print(f)"
      ],
      "metadata": {
        "colab": {
          "base_uri": "https://localhost:8080/"
        },
        "id": "TWxwK7dgDwYS",
        "outputId": "ff16c91f-44bb-4383-c209-c6ffab188d04"
      },
      "execution_count": 63,
      "outputs": [
        {
          "output_type": "stream",
          "name": "stdout",
          "text": [
            "['apple', 'banana', 'cherry', 'apple', 'cherry']\n",
            "[1, 2, 3, 4, 5, 6]\n",
            "[True, False, False]\n"
          ]
        }
      ]
    },
    {
      "cell_type": "code",
      "source": [
        "list2 = [\"sami yusuf\", 4, \"boy\", \"malay\"]\n",
        "print(list2)"
      ],
      "metadata": {
        "colab": {
          "base_uri": "https://localhost:8080/"
        },
        "id": "17JVHTaXEYKq",
        "outputId": "d7c0b9ba-d006-44ab-b44c-1c2a85f7e8fa"
      },
      "execution_count": 64,
      "outputs": [
        {
          "output_type": "stream",
          "name": "stdout",
          "text": [
            "['sami yusuf', 4, 'boy', 'malay']\n"
          ]
        }
      ]
    },
    {
      "cell_type": "code",
      "source": [
        "d = [\"apple\", \"banana\", \"cherry\", \"apple\", \"cherry\"]\n",
        "e = [1,2,3,4,5,6]\n",
        "f = [True, False,False]\n",
        "\n",
        "print(type(d))\n",
        "print(type(e))\n",
        "print(type(f))\n"
      ],
      "metadata": {
        "colab": {
          "base_uri": "https://localhost:8080/"
        },
        "id": "CQ1KEAOdEkuJ",
        "outputId": "dacb80ab-bf63-4c93-bb08-fbf0c0e558c6"
      },
      "execution_count": 65,
      "outputs": [
        {
          "output_type": "stream",
          "name": "stdout",
          "text": [
            "<class 'list'>\n",
            "<class 'list'>\n",
            "<class 'list'>\n"
          ]
        }
      ]
    },
    {
      "cell_type": "code",
      "source": [
        "#use list() constructor when creating new list...use double brackets\n",
        "list2 = ((\"sami yusuf\", 4, \"boy\", \"malay\"))\n",
        "print(list2)"
      ],
      "metadata": {
        "colab": {
          "base_uri": "https://localhost:8080/"
        },
        "id": "NwseLYTTE7O5",
        "outputId": "57605bcc-9bbc-4a8a-d260-2f6f4704d0fc"
      },
      "execution_count": 66,
      "outputs": [
        {
          "output_type": "stream",
          "name": "stdout",
          "text": [
            "('sami yusuf', 4, 'boy', 'malay')\n"
          ]
        }
      ]
    },
    {
      "cell_type": "code",
      "source": [
        "list2 = [\"sami yusuf\", 4, \"boy\", \"malay\"]\n",
        "print(list2[2])"
      ],
      "metadata": {
        "colab": {
          "base_uri": "https://localhost:8080/"
        },
        "id": "xY7HQTO-FwU4",
        "outputId": "86dd4f54-bf3d-45a8-f6cd-f55301f13880"
      },
      "execution_count": 67,
      "outputs": [
        {
          "output_type": "stream",
          "name": "stdout",
          "text": [
            "boy\n"
          ]
        }
      ]
    },
    {
      "cell_type": "code",
      "source": [
        "#change item value\n",
        "list2 = [\"sami yusuf\", 4, \"boy\", \"malay\"]\n",
        "list2[0] = \"yusuf\"\n",
        "print(list2)"
      ],
      "metadata": {
        "colab": {
          "base_uri": "https://localhost:8080/"
        },
        "id": "BIbwAGn_GyTF",
        "outputId": "dd22c565-7ab5-4b5d-f11e-fb60eeaae24b"
      },
      "execution_count": 68,
      "outputs": [
        {
          "output_type": "stream",
          "name": "stdout",
          "text": [
            "['yusuf', 4, 'boy', 'malay']\n"
          ]
        }
      ]
    },
    {
      "cell_type": "code",
      "source": [
        "#change a range of item values\n",
        "\n",
        "\n",
        "list2 = [\"sami yusuf\", 4, \"boy\", \"malay\", \"sibu\", \"malaysia\", \"Speak English\"]\n",
        "list2[0:4] = [\"yusuf\", \"melanau\"]\n",
        "print(list2)"
      ],
      "metadata": {
        "colab": {
          "base_uri": "https://localhost:8080/"
        },
        "id": "P5wAX5bjHA08",
        "outputId": "402db157-e27b-42dc-b39c-e43913cfb152"
      },
      "execution_count": 69,
      "outputs": [
        {
          "output_type": "stream",
          "name": "stdout",
          "text": [
            "['yusuf', 'melanau', 'sibu', 'malaysia', 'Speak English']\n"
          ]
        }
      ]
    },
    {
      "cell_type": "code",
      "source": [
        "#insert new items\n",
        "\n",
        "\n",
        "list2 = [\"sami yusuf\", 4, \"boy\", \"malay\"]\n",
        "list2.insert(3, \"Malaysian\")\n",
        "print(list2)"
      ],
      "metadata": {
        "colab": {
          "base_uri": "https://localhost:8080/"
        },
        "id": "IIR4r6kfHsY3",
        "outputId": "f00f410c-5cc5-413c-e711-4ae7e80384a1"
      },
      "execution_count": 70,
      "outputs": [
        {
          "output_type": "stream",
          "name": "stdout",
          "text": [
            "['sami yusuf', 4, 'boy', 'Malaysian', 'malay']\n"
          ]
        }
      ]
    },
    {
      "cell_type": "code",
      "source": [
        "#add item to the end of the list use append()\n",
        "\n",
        "\n",
        "list2 = [\"sami yusuf\", 4, \"boy\", \"malay\"]\n",
        "list2.append(\"Malaysian\")\n",
        "print(list2)"
      ],
      "metadata": {
        "colab": {
          "base_uri": "https://localhost:8080/"
        },
        "id": "_KaOJYGxIEww",
        "outputId": "b1e2252a-2266-4b40-e99d-f189c9305601"
      },
      "execution_count": 71,
      "outputs": [
        {
          "output_type": "stream",
          "name": "stdout",
          "text": [
            "['sami yusuf', 4, 'boy', 'malay', 'Malaysian']\n"
          ]
        }
      ]
    },
    {
      "cell_type": "code",
      "source": [
        "#to add elements from another list to the current list, use extend() method\n",
        "\n",
        "\n",
        "fruit1 = [\"banana\", \"dragonfruits\", \"durians\", \"pineapple\"]\n",
        "fruit2 = [\"avocado\", \"strawberry\", \"blueberry\", \"cherry\"]\n",
        "fruit1.extend(fruit2)\n",
        "print(fruit1)"
      ],
      "metadata": {
        "colab": {
          "base_uri": "https://localhost:8080/"
        },
        "id": "3uiBZhGsH3A2",
        "outputId": "0663cb0a-128d-48eb-cf75-c4c1339402e4"
      },
      "execution_count": 72,
      "outputs": [
        {
          "output_type": "stream",
          "name": "stdout",
          "text": [
            "['banana', 'dragonfruits', 'durians', 'pineapple', 'avocado', 'strawberry', 'blueberry', 'cherry']\n"
          ]
        }
      ]
    },
    {
      "cell_type": "code",
      "source": [
        "#remove specified item\n",
        "fruit1 = [\"banana\", \"dragonfruits\", \"durians\", \"pineapple\"]\n",
        "fruit1.remove(\"pineapple\")\n",
        "print(fruit1)"
      ],
      "metadata": {
        "colab": {
          "base_uri": "https://localhost:8080/"
        },
        "id": "Gjpo96fqI9nn",
        "outputId": "b0e5a89d-9dba-4c2f-b68f-d913ce0ae993"
      },
      "execution_count": 73,
      "outputs": [
        {
          "output_type": "stream",
          "name": "stdout",
          "text": [
            "['banana', 'dragonfruits', 'durians']\n"
          ]
        }
      ]
    },
    {
      "cell_type": "code",
      "source": [
        "#remove specified index\n",
        "fruit1 = [\"banana\", \"dragonfruits\", \"durians\", \"pineapple\"]\n",
        "fruit1.pop(3)\n",
        "print(fruit1)"
      ],
      "metadata": {
        "colab": {
          "base_uri": "https://localhost:8080/"
        },
        "id": "qFjuZhWQJMF1",
        "outputId": "23266757-aef4-4f10-fb88-cbdd7b8f8d47"
      },
      "execution_count": 74,
      "outputs": [
        {
          "output_type": "stream",
          "name": "stdout",
          "text": [
            "['banana', 'dragonfruits', 'durians']\n"
          ]
        }
      ]
    },
    {
      "cell_type": "code",
      "source": [
        "#del keyword for remove specified index\n",
        "\n",
        "\n",
        "fruit1 = [\"banana\", \"dragonfruits\", \"durians\", \"pineapple\"]\n",
        "del fruit1[2]\n",
        "print(fruit1)"
      ],
      "metadata": {
        "colab": {
          "base_uri": "https://localhost:8080/"
        },
        "id": "KrXj5EHjJUzX",
        "outputId": "784628bb-e51b-4fc5-ab57-078df2d75b8f"
      },
      "execution_count": 75,
      "outputs": [
        {
          "output_type": "stream",
          "name": "stdout",
          "text": [
            "['banana', 'dragonfruits', 'pineapple']\n"
          ]
        }
      ]
    },
    {
      "cell_type": "code",
      "source": [
        "#clear the list\n",
        "\n",
        "fruit1 = [\"banana\", \"dragonfruits\", \"durians\", \"pineapple\"]\n",
        "fruit1.clear()\n",
        "print(fruit1)"
      ],
      "metadata": {
        "colab": {
          "base_uri": "https://localhost:8080/"
        },
        "id": "xUdUhebxniGk",
        "outputId": "7980a959-6ed8-4d6d-8991-7261afa8d7c6"
      },
      "execution_count": 76,
      "outputs": [
        {
          "output_type": "stream",
          "name": "stdout",
          "text": [
            "[]\n"
          ]
        }
      ]
    },
    {
      "cell_type": "code",
      "source": [
        "fruit1 = [\"banana\", \"dragonfruits\", \"durians\", \"pineapple\"]\n",
        "for x in fruit1:\n",
        "  print(x)"
      ],
      "metadata": {
        "colab": {
          "base_uri": "https://localhost:8080/"
        },
        "id": "Ie17hVy8n2BT",
        "outputId": "e40ab6ce-479a-42da-8db6-a8cf535d3ebf"
      },
      "execution_count": 77,
      "outputs": [
        {
          "output_type": "stream",
          "name": "stdout",
          "text": [
            "banana\n",
            "dragonfruits\n",
            "durians\n",
            "pineapple\n"
          ]
        }
      ]
    },
    {
      "cell_type": "code",
      "source": [
        "fruit1 = [\"banana\", \"dragonfruits\", \"durians\", \"pineapple\"]\n",
        "for x in range(len(fruit1)):\n",
        "  print(fruit1[3])"
      ],
      "metadata": {
        "colab": {
          "base_uri": "https://localhost:8080/"
        },
        "id": "Y2jsk9KHoIsC",
        "outputId": "754a9612-3095-4b00-f585-71a842fe547c"
      },
      "execution_count": 78,
      "outputs": [
        {
          "output_type": "stream",
          "name": "stdout",
          "text": [
            "pineapple\n",
            "pineapple\n",
            "pineapple\n",
            "pineapple\n"
          ]
        }
      ]
    },
    {
      "cell_type": "code",
      "source": [
        "fruit1 = [\"banana\", \"dragonfruits\", \"durians\", \"pineapple\"]\n",
        "x = 1\n",
        "while x < len(fruit1):\n",
        "  print(fruit1[x])\n",
        "  x = x + 1"
      ],
      "metadata": {
        "colab": {
          "base_uri": "https://localhost:8080/"
        },
        "id": "Vg0wh9WgomgV",
        "outputId": "2d389907-4c32-44df-bb13-ae2b9bb0ba17"
      },
      "execution_count": 79,
      "outputs": [
        {
          "output_type": "stream",
          "name": "stdout",
          "text": [
            "dragonfruits\n",
            "durians\n",
            "pineapple\n"
          ]
        }
      ]
    },
    {
      "cell_type": "code",
      "source": [
        "fruit1 = [\"banana\", \"dragonfruits\", \"durians\", \"pineapple\"]\n",
        "[print(x) for x in fruit1]"
      ],
      "metadata": {
        "colab": {
          "base_uri": "https://localhost:8080/"
        },
        "id": "1cm3UFSio67Y",
        "outputId": "4dc89cb2-af1d-4f6a-e594-e39fbcc1bd1d"
      },
      "execution_count": 80,
      "outputs": [
        {
          "output_type": "stream",
          "name": "stdout",
          "text": [
            "banana\n",
            "dragonfruits\n",
            "durians\n",
            "pineapple\n"
          ]
        },
        {
          "output_type": "execute_result",
          "data": {
            "text/plain": [
              "[None, None, None, None]"
            ]
          },
          "metadata": {},
          "execution_count": 80
        }
      ]
    },
    {
      "cell_type": "code",
      "source": [
        "fruit1 = [\"banana\", \"dragonfruits\", \"durians\", \"pineapple\"]\n",
        "newlist = []\n",
        "\n",
        "for x in fruit1:\n",
        "  if \"d\" in x:\n",
        "    newlist.append(x)\n",
        "print(newlist)"
      ],
      "metadata": {
        "colab": {
          "base_uri": "https://localhost:8080/"
        },
        "id": "484Hg3elpdTx",
        "outputId": "6eec774c-fc10-47ed-9b0a-b003d5a61ba4"
      },
      "execution_count": 81,
      "outputs": [
        {
          "output_type": "stream",
          "name": "stdout",
          "text": [
            "['dragonfruits', 'durians']\n"
          ]
        }
      ]
    },
    {
      "cell_type": "code",
      "source": [
        "#syntax newlist = [expression for item in iterable if condition == True]\n",
        "fruit1 = [\"banana\", \"dragonfruits\", \"durians\", \"pineapple\"]\n",
        "newlist = [x for x in fruit1 if \"p\" in x]\n",
        "print(newlist)"
      ],
      "metadata": {
        "colab": {
          "base_uri": "https://localhost:8080/"
        },
        "id": "ChVQvmbUp4T-",
        "outputId": "2e3e4750-656f-4cd9-ad74-4cc20eacaac3"
      },
      "execution_count": 82,
      "outputs": [
        {
          "output_type": "stream",
          "name": "stdout",
          "text": [
            "['pineapple']\n"
          ]
        }
      ]
    },
    {
      "cell_type": "code",
      "source": [
        "fruit1 = [\"banana\", \"dragonfruits\", \"durians\", \"pineapple\"]\n",
        "newlist = [x.upper() for x in fruit1]\n",
        "print(newlist)"
      ],
      "metadata": {
        "colab": {
          "base_uri": "https://localhost:8080/"
        },
        "id": "BP-r8b98q2Jt",
        "outputId": "55a00489-4318-40cf-b393-be90536b1fd8"
      },
      "execution_count": 83,
      "outputs": [
        {
          "output_type": "stream",
          "name": "stdout",
          "text": [
            "['BANANA', 'DRAGONFRUITS', 'DURIANS', 'PINEAPPLE']\n"
          ]
        }
      ]
    },
    {
      "cell_type": "code",
      "source": [
        "fruit1 = [\"banana\", \"dragonfruits\", \"durians\", \"pineapple\"]\n",
        "newlist = ['avocado' for x in fruit1]\n",
        "print(newlist)"
      ],
      "metadata": {
        "colab": {
          "base_uri": "https://localhost:8080/"
        },
        "id": "hUY_is6CrF8m",
        "outputId": "cc5b6b29-1db2-497b-fb90-7baa69bcb11f"
      },
      "execution_count": 84,
      "outputs": [
        {
          "output_type": "stream",
          "name": "stdout",
          "text": [
            "['avocado', 'avocado', 'avocado', 'avocado']\n"
          ]
        }
      ]
    },
    {
      "cell_type": "code",
      "source": [
        "fruit1 = [\"banana\", \"dragonfruits\", \"durians\", \"pineapple\"]\n",
        "newlist = [x if x != \"banana\" else \"orange\" for x in fruit1]\n",
        "print(newlist)"
      ],
      "metadata": {
        "colab": {
          "base_uri": "https://localhost:8080/"
        },
        "id": "S-PK9ldtrVnk",
        "outputId": "84095238-1996-4afa-bf41-84dc64212b0a"
      },
      "execution_count": 85,
      "outputs": [
        {
          "output_type": "stream",
          "name": "stdout",
          "text": [
            "['orange', 'dragonfruits', 'durians', 'pineapple']\n"
          ]
        }
      ]
    },
    {
      "cell_type": "code",
      "source": [
        "#sort list alphanumerically\n",
        "\n",
        "fruit1 = [\"banana\", \"dragonfruits\", \"durians\", \"pineapple\", \"apple\"]\n",
        "fruit1.sort()\n",
        "print(fruit1)"
      ],
      "metadata": {
        "colab": {
          "base_uri": "https://localhost:8080/"
        },
        "id": "-BPgrSFdrVp4",
        "outputId": "ef8f2239-e7b5-40fa-c1f7-56f4c10381aa"
      },
      "execution_count": 86,
      "outputs": [
        {
          "output_type": "stream",
          "name": "stdout",
          "text": [
            "['apple', 'banana', 'dragonfruits', 'durians', 'pineapple']\n"
          ]
        }
      ]
    },
    {
      "cell_type": "code",
      "source": [
        "nom = [100,78, 88, 98, 46]\n",
        "nom.sort()\n",
        "print(nom)"
      ],
      "metadata": {
        "colab": {
          "base_uri": "https://localhost:8080/"
        },
        "id": "ftJP-fHQr20i",
        "outputId": "8b04f7d3-8c45-4384-ca41-2052ff1834f6"
      },
      "execution_count": 87,
      "outputs": [
        {
          "output_type": "stream",
          "name": "stdout",
          "text": [
            "[46, 78, 88, 98, 100]\n"
          ]
        }
      ]
    },
    {
      "cell_type": "code",
      "source": [
        "# list descending\n",
        "nom = [100,78, 88, 98, 46]\n",
        "nom.sort(reverse = True)\n",
        "print(nom)"
      ],
      "metadata": {
        "colab": {
          "base_uri": "https://localhost:8080/"
        },
        "id": "vp3Mz21Ur_ih",
        "outputId": "3909d5f8-9e42-4776-fcb8-ad5ec3fa3bef"
      },
      "execution_count": 88,
      "outputs": [
        {
          "output_type": "stream",
          "name": "stdout",
          "text": [
            "[100, 98, 88, 78, 46]\n"
          ]
        }
      ]
    },
    {
      "cell_type": "code",
      "source": [
        "def myfunc(n):\n",
        "  return abs(n - 50)\n",
        "\n",
        "nom = [100,28, 78, 66, 88, 98, 46]\n",
        "\n",
        "nom.sort(key = myfunc)\n",
        "\n",
        "print(nom)\n",
        " \n",
        "  "
      ],
      "metadata": {
        "colab": {
          "base_uri": "https://localhost:8080/"
        },
        "id": "muM5zFm9sQHR",
        "outputId": "2991a7bd-45f1-40c8-a210-bae6b7283736"
      },
      "execution_count": 89,
      "outputs": [
        {
          "output_type": "stream",
          "name": "stdout",
          "text": [
            "[46, 66, 28, 78, 88, 98, 100]\n"
          ]
        }
      ]
    },
    {
      "cell_type": "code",
      "source": [
        "def myfunc(n):\n",
        "  return abs(n - 50)\n",
        "\n",
        "thislist = [100, 50, 65, 82, 23]\n",
        "\n",
        "thislist.sort(key = myfunc)\n",
        "\n",
        "print(thislist)"
      ],
      "metadata": {
        "colab": {
          "base_uri": "https://localhost:8080/"
        },
        "id": "EIZOfed2tXNe",
        "outputId": "55bb1ee5-a34f-4c0e-ed03-46c0a84e004a"
      },
      "execution_count": 90,
      "outputs": [
        {
          "output_type": "stream",
          "name": "stdout",
          "text": [
            "[50, 65, 23, 82, 100]\n"
          ]
        }
      ]
    },
    {
      "cell_type": "code",
      "source": [
        "fruit1 = [\"banana\", \"dragonfruits\", \"durians\", \"pineapple\", \"apple\"]\n",
        "fruit1.sort(key = str.lower)\n",
        "print(fruit1)"
      ],
      "metadata": {
        "colab": {
          "base_uri": "https://localhost:8080/"
        },
        "id": "VBWXTpaOtmTE",
        "outputId": "1bff0a58-a9b4-46da-95f7-f75545c17d23"
      },
      "execution_count": 91,
      "outputs": [
        {
          "output_type": "stream",
          "name": "stdout",
          "text": [
            "['apple', 'banana', 'dragonfruits', 'durians', 'pineapple']\n"
          ]
        }
      ]
    },
    {
      "cell_type": "code",
      "source": [
        "# reverse the list\n",
        "fruit1 = [\"banana\", \"dragonfruits\", \"durians\", \"pineapple\", \"apple\"]\n",
        "fruit1.reverse()\n",
        "print(fruit1)"
      ],
      "metadata": {
        "colab": {
          "base_uri": "https://localhost:8080/"
        },
        "id": "KSX1sMyct1Ad",
        "outputId": "a22b60f7-8485-4ef7-d897-74a105b2c537"
      },
      "execution_count": 92,
      "outputs": [
        {
          "output_type": "stream",
          "name": "stdout",
          "text": [
            "['apple', 'pineapple', 'durians', 'dragonfruits', 'banana']\n"
          ]
        }
      ]
    },
    {
      "cell_type": "code",
      "source": [
        "#copy a list\n",
        "\n",
        "#method 1\n",
        "fruit1 = [\"banana\", \"dragonfruits\", \"durians\", \"pineapple\", \"apple\"]\n",
        "fruit3 = fruit1.copy()\n",
        "print(fruit3)\n"
      ],
      "metadata": {
        "colab": {
          "base_uri": "https://localhost:8080/"
        },
        "id": "4TzuF54yuIh0",
        "outputId": "ba3e799f-706e-4546-cffd-81a1e0731fc5"
      },
      "execution_count": 93,
      "outputs": [
        {
          "output_type": "stream",
          "name": "stdout",
          "text": [
            "['banana', 'dragonfruits', 'durians', 'pineapple', 'apple']\n"
          ]
        }
      ]
    },
    {
      "cell_type": "code",
      "source": [
        "#method 2\n",
        "fruit1 = [\"banana\", \"dragonfruits\", \"durians\", \"pineapple\", \"apple\"]\n",
        "fruit3 = list(fruit1)\n",
        "print(fruit3)"
      ],
      "metadata": {
        "colab": {
          "base_uri": "https://localhost:8080/"
        },
        "id": "9ZeriimwuTVp",
        "outputId": "2c46e8b9-715d-4601-acc0-fe62b8b1e12a"
      },
      "execution_count": 94,
      "outputs": [
        {
          "output_type": "stream",
          "name": "stdout",
          "text": [
            "['banana', 'dragonfruits', 'durians', 'pineapple', 'apple']\n"
          ]
        }
      ]
    },
    {
      "cell_type": "code",
      "source": [
        "#join two lists\n",
        "\n",
        "fruit1 = [\"banana\", \"dragonfruits\", \"durians\", \"pineapple\"]\n",
        "fruit2 = [\"avocado\", \"strawberry\", \"blueberry\", \"cherry\"]\n",
        "\n",
        "fruit3 = fruit1 + fruit2\n",
        "print(fruit3)"
      ],
      "metadata": {
        "colab": {
          "base_uri": "https://localhost:8080/"
        },
        "id": "n9kZlrkyudp4",
        "outputId": "9f7535f9-d86b-4db0-8717-06fdb75d7c88"
      },
      "execution_count": 95,
      "outputs": [
        {
          "output_type": "stream",
          "name": "stdout",
          "text": [
            "['banana', 'dragonfruits', 'durians', 'pineapple', 'avocado', 'strawberry', 'blueberry', 'cherry']\n"
          ]
        }
      ]
    },
    {
      "cell_type": "markdown",
      "source": [
        "List Methods ![Screenshot 2022-07-30 at 12.15.25 AM.png](data:image/png;base64,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)"
      ],
      "metadata": {
        "id": "cF5hZgL4vkB1"
      }
    }
  ]
}